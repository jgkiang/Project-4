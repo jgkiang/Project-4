{
 "cells": [
  {
   "cell_type": "code",
   "execution_count": null,
   "id": "d2850939",
   "metadata": {},
   "outputs": [],
   "source": [
    "pageurl = \"https://www.vgchartz.com/games/games.php?name=&keyword=&console=&region=All&developer=&publisher=&goty_year=&genre=&boxart=Both&banner=Both&ownership=Both&showmultiplat=No&results=10000&order=ReleaseDate&showtotalsales=0&showtotalsales=1&showpublisher=0&showpublisher=1&showvgchartzscore=0&showvgchartzscore=1&shownasales=0&shownasales=1&showdeveloper=0&showdeveloper=1&showcriticscore=0&showcriticscore=1&showpalsales=0&showreleasedate=0&showreleasedate=1&showuserscore=0&showuserscore=1&showjapansales=0&showlastupdate=0&showlastupdate=1&showothersales=0&showshipped=0&showshipped=1\""
   ]
  },
  {
   "cell_type": "code",
   "execution_count": null,
   "id": "9419c704",
   "metadata": {},
   "outputs": [],
   "source": [
    "from bs4 import BeautifulSoup, element\n",
    "import urllib\n",
    "import pandas as pd\n",
    "import numpy as np"
   ]
  },
  {
   "cell_type": "code",
   "execution_count": null,
   "id": "7e6c8f3c",
   "metadata": {},
   "outputs": [],
   "source": [
    "read_html = pd.read_html(pageurl)"
   ]
  },
  {
   "cell_type": "code",
   "execution_count": null,
   "id": "bde5fd08",
   "metadata": {},
   "outputs": [],
   "source": [
    "df = read_html[6]\n"
   ]
  },
  {
   "cell_type": "code",
   "execution_count": null,
   "id": "36244218",
   "metadata": {},
   "outputs": [],
   "source": [
    "df.head()"
   ]
  },
  {
   "cell_type": "code",
   "execution_count": null,
   "id": "4b2ef4ba",
   "metadata": {},
   "outputs": [],
   "source": [
    "df.columns = []"
   ]
  },
  {
   "cell_type": "code",
   "execution_count": null,
   "id": "e6a55ddd",
   "metadata": {},
   "outputs": [],
   "source": []
  }
 ],
 "metadata": {
  "kernelspec": {
   "display_name": "Python 3 (ipykernel)",
   "language": "python",
   "name": "python3"
  },
  "language_info": {
   "codemirror_mode": {
    "name": "ipython",
    "version": 3
   },
   "file_extension": ".py",
   "mimetype": "text/x-python",
   "name": "python",
   "nbconvert_exporter": "python",
   "pygments_lexer": "ipython3",
   "version": "3.9.7"
  }
 },
 "nbformat": 4,
 "nbformat_minor": 5
}
